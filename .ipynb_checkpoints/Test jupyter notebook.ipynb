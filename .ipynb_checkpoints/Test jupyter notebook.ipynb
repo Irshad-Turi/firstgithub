{
 "cells": [
  {
   "cell_type": "markdown",
   "metadata": {},
   "source": [
    "#python ka chilla with Baba Aammar\n",
    "##how to use jupyter notebook\n",
    "###our basics of python"
   ]
  },
  {
   "cell_type": "markdown",
   "metadata": {},
   "source": [
    "*#1-My first program*"
   ]
  },
  {
   "cell_type": "code",
   "execution_count": 1,
   "metadata": {},
   "outputs": [
    {
     "name": "stdout",
     "output_type": "stream",
     "text": [
      "5\n",
      "Hello world\n",
      "we are learning python with Aammar\n",
      "test for single quotes\n",
      "test for double quotes\n",
      "test for tripple quotes\n"
     ]
    }
   ],
   "source": [
    "print(2+3)\n",
    "print(\"Hello world\")\n",
    "print(\"we are learning python with Aammar\")\n",
    "\n",
    "print('test for single quotes')\n",
    "print(\"test for double quotes\")\n",
    "print('''test for tripple quotes''')"
   ]
  },
  {
   "cell_type": "markdown",
   "metadata": {},
   "source": [
    "2-*#Operators*"
   ]
  },
  {
   "cell_type": "code",
   "execution_count": 2,
   "metadata": {},
   "outputs": [
    {
     "name": "stdout",
     "output_type": "stream",
     "text": [
      "5\n",
      "2\n",
      "3.0\n",
      "6\n",
      "1\n",
      "3\n",
      "8\n",
      "11.0\n"
     ]
    }
   ],
   "source": [
    "print(2+3)\n",
    "print(3-1)\n",
    "print(6/2)\n",
    "print(2*3)\n",
    "print(13%2)\n",
    "\n",
    "print(7//2)\n",
    "\n",
    "print(2**3)\n",
    "\n",
    "print(3**2*3/3+6-4)"
   ]
  },
  {
   "cell_type": "markdown",
   "metadata": {},
   "source": [
    "3-*#String*"
   ]
  },
  {
   "cell_type": "code",
   "execution_count": 3,
   "metadata": {},
   "outputs": [
    {
     "name": "stdout",
     "output_type": "stream",
     "text": [
      "5\n",
      "Hello world\n",
      "we are learning python with Aammar\n",
      "test for single quotes\n",
      "test for double quotes\n",
      "test for tripple quotes\n",
      "what's up\n",
      "this is a string\n"
     ]
    }
   ],
   "source": [
    "print(2+3)\n",
    "print(\"Hello world\")\n",
    "print(\"we are learning python with Aammar\")\n",
    "\n",
    "print('test for single quotes')\n",
    "print(\"test for double quotes\")\n",
    "print('test for tripple quotes')\n",
    "\n",
    "print(\"what's up\")\n",
    "\n",
    "print(\"this is a string\")"
   ]
  },
  {
   "cell_type": "markdown",
   "metadata": {},
   "source": [
    "3-##*Comments in python*\n",
    "  For comments press **ctrl+/**"
   ]
  },
  {
   "cell_type": "code",
   "execution_count": 4,
   "metadata": {},
   "outputs": [
    {
     "name": "stdout",
     "output_type": "stream",
     "text": [
      "we are learning python with Aammar\n",
      "5\n"
     ]
    }
   ],
   "source": [
    "# print(\"how are you\")       press Ctrl+/ to comment out \n",
    "print(\"we are learning python with Aammar\")     #print a string\n",
    "print(2+3)"
   ]
  },
  {
   "cell_type": "markdown",
   "metadata": {},
   "source": [
    "5-**##Variable*"
   ]
  },
  {
   "cell_type": "code",
   "execution_count": 5,
   "metadata": {},
   "outputs": [
    {
     "name": "stdout",
     "output_type": "stream",
     "text": [
      "s\n",
      "we are learning python with Aammar\n",
      "15\n",
      "<class 'int'>\n",
      "<class 'str'>\n",
      "<class 'str'>\n",
      "Mangoes\n"
     ]
    }
   ],
   "source": [
    "# variables are objects containg specific values\n",
    "from attr import s\n",
    "\n",
    "\n",
    "x = \"s\" #numeric or integer variable\n",
    "print(x)\n",
    "\n",
    "y=\"we are learning python with Aammar\" #string variable\n",
    "print(y)\n",
    "x=15\n",
    "print(x)\n",
    "\n",
    "# types of variable\n",
    "type(x)\n",
    "print(type(x))\n",
    "print(type(y))\n",
    "\n",
    "# print_type_class\n",
    "\n",
    "# Rules to assign a variable\n",
    "# 1-the variables should contain letters,numbers or underscores\n",
    "# 2- Do not start with numbers\n",
    "# 3- Do not use keywords used in function(break,mean,media etc)\n",
    "# 4- spaces are not allowed\n",
    "# 5-short and descripative\n",
    "# 6-Case sensitivity(For lowercase,uppercase letters lower case should be used)\n",
    "\n",
    "fruit_basket= 20\n",
    "fruit_basket= \"Mangoes\"\n",
    "print(type(fruit_basket))\n",
    "print(fruit_basket)\n",
    "\n",
    "# fruit_basket\n",
    "\n",
    "\n",
    "\n"
   ]
  },
  {
   "cell_type": "markdown",
   "metadata": {},
   "source": [
    "6-***#Input variable*"
   ]
  },
  {
   "cell_type": "code",
   "execution_count": 6,
   "metadata": {},
   "outputs": [
    {
     "name": "stdout",
     "output_type": "stream",
     "text": [
      "what is your name? irshad\n",
      "hello irshad , you are still young\n"
     ]
    }
   ],
   "source": [
    "# fruit_basket=\"Mangoes\"\n",
    "# print(fruit_basket)\n",
    "\n",
    "# input function\n",
    "# fruit_basket=input(\"what is your favorite fruit? \")\n",
    "# print(fruit_basket)\n",
    "\n",
    "# input function of second stage\n",
    "# name=input(\"what is your name? \")\n",
    "# greetings=\"hello\"\n",
    "# print(greetings,name)\n",
    "\n",
    "# another way of stage 2 input function\n",
    "# name=input(\"what is your name? \")\n",
    "# print(\"Hello\", name)\n",
    "\n",
    "# 3rd stage input\n",
    "name=input(\"what is your name? \")\n",
    "age=(\"How old are you? \")\n",
    "greetings=\"hello\"\n",
    "print(greetings,name,\", you are still young\")\n",
    "\n",
    "\n",
    "# input_Aammara-you are still young\n",
    "\n"
   ]
  },
  {
   "cell_type": "markdown",
   "metadata": {},
   "source": [
    "7-***#Conditional_logics*"
   ]
  },
  {
   "cell_type": "code",
   "execution_count": 7,
   "metadata": {},
   "outputs": [
    {
     "name": "stdout",
     "output_type": "stream",
     "text": [
      "how old are you? 33\n",
      "False\n"
     ]
    }
   ],
   "source": [
    "# logical operators are either \"true or false\" or \"yes or no\" or \"1 or 0\"\n",
    "# equal to   ==\n",
    "# not equal to !=\n",
    "# less than  <\n",
    "# Greater than >\n",
    "# less than and equal to  <=\n",
    "# greater than and equal to >=\n",
    "\n",
    "# is 4 equal to 4\n",
    "# print(4==4)\n",
    "# print(4!=4)\n",
    "# print(4<3)\n",
    "# print(4>3)\n",
    "# print(4>=3)\n",
    "\n",
    "# applications of logical operators\n",
    "# hammad_age=4\n",
    "# age_at_school=5\n",
    "# print(hammad_age==age_at_school)\n",
    "\n",
    "# input function and logicals operator\n",
    "age_at_school=5\n",
    "hammad_age=input(\"how old are you? \")\n",
    "hammad_age=int(hammad_age) # convert hammad age to int otherwise comparing int to float is always false\n",
    "print(hammad_age==age_at_school)\n",
    "\n",
    "\n",
    "# convert input\n"
   ]
  },
  {
   "cell_type": "markdown",
   "metadata": {},
   "source": [
    "8-***#Type_conversion*"
   ]
  },
  {
   "cell_type": "code",
   "execution_count": 8,
   "metadata": {},
   "outputs": [
    {
     "name": "stdout",
     "output_type": "stream",
     "text": [
      "what is your name? Irshad\n",
      "Irshad <class 'str'>\n"
     ]
    }
   ],
   "source": [
    "# x = 10         #int\n",
    "# y = 10.5       #float\n",
    "# z = \"Hello\"    #string\n",
    "\n",
    "# x=x*y   #multiplication changes the type to float\n",
    "# print(x,\"type of x is \", type(x)) \n",
    "# print(type(y))\n",
    "# print(type(z))\n",
    "\n",
    "# explicit type conversion\n",
    "# age=input(\"what is your age? \")\n",
    "# print(age,type(float(age)))\n",
    "\n",
    "# name\n",
    "name=input(\"what is your name? \")\n",
    "print(name,type(str(name)))\n",
    "\n",
    "\n",
    "\n",
    "# type_conversion\n"
   ]
  },
  {
   "cell_type": "markdown",
   "metadata": {},
   "source": [
    "9-***#if_else_elif*"
   ]
  },
  {
   "cell_type": "code",
   "execution_count": 15,
   "metadata": {},
   "outputs": [
    {
     "name": "stdout",
     "output_type": "stream",
     "text": [
      "you should take care of hammad , he is still a baby\n"
     ]
    }
   ],
   "source": [
    "hammad_age=1\n",
    "required_age_at_school=5\n",
    "\n",
    "# can hammad go to school\n",
    "if hammad_age==required_age_at_school:\n",
    "    print(\"hammad can join the  school\")\n",
    "\n",
    "elif hammad_age>required_age_at_school:\n",
    "    print(\"Hammad should join seconary school\")\n",
    "elif hammad_age<=2:\n",
    "        print(\"you should take care of hammad , he is still a baby\")\n",
    "else:\n",
    "    print(\"hammad cannot go to school\")\n",
    "\n",
    " # if , elif , else statement clear\n",
    " \n",
    "\n",
    "\n",
    "\n",
    "\n",
    "\n"
   ]
  },
  {
   "cell_type": "markdown",
   "metadata": {},
   "source": [
    "10-***#functions*"
   ]
  },
  {
   "cell_type": "code",
   "execution_count": 10,
   "metadata": {},
   "outputs": [
    {
     "name": "stdout",
     "output_type": "stream",
     "text": [
      "30\n"
     ]
    }
   ],
   "source": [
    "# print(\"We are learning with Aammar\")\n",
    "# print(\"We are learning with Aammar\")\n",
    "# print(\"We are learning with Aammar\")\n",
    "# print(\"We are learning with Aammar\")\n",
    "\n",
    "# defining a function\n",
    "# 1\n",
    "# def print_codanics():      # def argument\n",
    "#     print(\"We are learning with Aammar\")\n",
    "#     print(\"We are learning with Aammar\")\n",
    "#     print(\"We are learning with Aammar\")\n",
    "\n",
    "# print_codanics()            #calling function\n",
    "\n",
    "# 2\n",
    "# def print_codanics():      # def argument\n",
    "#    text = \"We are learning with Aammar\"\n",
    "#    print(text)\n",
    "#    print(text)\n",
    "#    print(text)\n",
    "\n",
    "# print_codanics() \n",
    "\n",
    "# # 3\n",
    "# def print_codanics(text):\n",
    "#     print(text)\n",
    "#     print(text)\n",
    "#     print(text)\n",
    "# print_codanics(\"We are learning with Aammar in youtube channel\") \n",
    "\n",
    "# defining a function with if, elif, and else statement\n",
    "\n",
    "# def school_calculator(age, text):\n",
    "#      if  age==5:\n",
    "#           print(\"hammad can join the  school\")\n",
    "     \n",
    "#      elif age>5:\n",
    "#          print(\"Hammad should join seconary school\")   \n",
    "#      elif age<=2:\n",
    "#         print(\"you should takr care of hammad , he is still a baby\")\n",
    "#      else:\n",
    "#           print(\"hammad cannot go to school\")\n",
    "\n",
    "# school_calculator(15,\"Hammad\")\n",
    "\n",
    "\n",
    "\n",
    "\n",
    "\n",
    "# defining a function of future\n",
    "\n",
    "def future_age(age):\n",
    "    new_age=age+20\n",
    "    return new_age\n",
    "    # print(new_age)\n",
    "future_predicated_age=future_age(10)\n",
    "print(future_predicated_age)\n",
    "\n",
    "\n",
    "# i understant function really well\n",
    "\n"
   ]
  },
  {
   "cell_type": "markdown",
   "metadata": {},
   "source": [
    "11-***#Loops*"
   ]
  },
  {
   "cell_type": "code",
   "execution_count": 11,
   "metadata": {},
   "outputs": [
    {
     "name": "stdout",
     "output_type": "stream",
     "text": [
      "Mon\n",
      "Tur\n",
      "Wed\n",
      "Thu\n",
      "Sat\n",
      "Sun\n"
     ]
    }
   ],
   "source": [
    "# while and for loops\n",
    "# while loop\n",
    "\n",
    "# x=0\n",
    "# while(x<5):\n",
    "#     print(x)\n",
    "#     x=x+1\n",
    "\n",
    "\n",
    "# for loop\n",
    "# for x in range(5,20):\n",
    "#     print(x)\n",
    "\n",
    "\n",
    "# array\n",
    "# days=[\"Mon\",\"Tur\",\"Wed\",\"Thu\",\"Fri\",\"Sat\",\"Sun\"]\n",
    "\n",
    "# for d in days:\n",
    "#     if (d==\"Fri\"): break\n",
    "#     print(d)  stops on thursday\n",
    "\n",
    "days=[\"Mon\",\"Tur\",\"Wed\",\"Thu\",\"Fri\",\"Sat\",\"Sun\"]\n",
    "\n",
    "for d in days:\n",
    "    if (d==\"Fri\"): continue\n",
    "    print(d)  # Fri not printed/   (skipped)\n"
   ]
  },
  {
   "cell_type": "markdown",
   "metadata": {},
   "source": [
    "12-***#Import_libraries*"
   ]
  },
  {
   "cell_type": "code",
   "execution_count": 12,
   "metadata": {},
   "outputs": [
    {
     "name": "stdout",
     "output_type": "stream",
     "text": [
      "the value of pi is  3.141592653589793\n",
      "235.16666666666666\n"
     ]
    }
   ],
   "source": [
    "# if you want to print value of pi\n",
    "\n",
    "import math\n",
    "print(\"the value of pi is \", math.pi)\n",
    "\n",
    "import statistics\n",
    "\n",
    "x=[120,220,230,150,241,450]\n",
    "print(statistics.mean(x))\n",
    "\n",
    "# numpy, pandas"
   ]
  },
  {
   "cell_type": "markdown",
   "metadata": {},
   "source": [
    "13-***#trouble_shooting*"
   ]
  },
  {
   "cell_type": "code",
   "execution_count": 13,
   "metadata": {
    "scrolled": true
   },
   "outputs": [
    {
     "name": "stdout",
     "output_type": "stream",
     "text": [
      "Hello name\n"
     ]
    }
   ],
   "source": [
    "# print(we are learning python with Aamar)  syntax error\n",
    "\n",
    "# print(25/0)                               runtime error\n",
    "\n",
    "name=\"Aammar\"\n",
    "print(\"Hello name\")                       #symantic error\n",
    "\n",
    "# trouble=shooting is easy\n",
    "\n"
   ]
  },
  {
   "cell_type": "markdown",
   "metadata": {},
   "source": [
    "14-***#advice*"
   ]
  },
  {
   "cell_type": "code",
   "execution_count": 14,
   "metadata": {},
   "outputs": [],
   "source": [
    "# Advice"
   ]
  },
  {
   "cell_type": "code",
   "execution_count": null,
   "metadata": {},
   "outputs": [],
   "source": []
  }
 ],
 "metadata": {
  "kernelspec": {
   "display_name": "Python 3",
   "language": "python",
   "name": "python3"
  },
  "language_info": {
   "codemirror_mode": {
    "name": "ipython",
    "version": 3
   },
   "file_extension": ".py",
   "mimetype": "text/x-python",
   "name": "python",
   "nbconvert_exporter": "python",
   "pygments_lexer": "ipython3",
   "version": "3.7.1"
  }
 },
 "nbformat": 4,
 "nbformat_minor": 2
}
