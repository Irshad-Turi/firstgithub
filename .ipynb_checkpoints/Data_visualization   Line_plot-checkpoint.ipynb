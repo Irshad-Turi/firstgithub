{
 "cells": [
  {
   "cell_type": "markdown",
   "metadata": {},
   "source": [
    "#\"Converting data to graph is called data visualization(data,codes and graphs)\"\n",
    "\n",
    "   ##Grammar of graphics  \n",
    "    1- Mapping(Data)\n",
    "    2- Aesthetic(color,shape,size)\n",
    "    3- Geometric(Objects:Line,Bar,points,Box,Map)\n",
    "    \n",
    "    May also contain minor parts-Dat on specific coordinates\n",
    "    \n",
    "    \n",
    " #Data visualization  \n",
    "   Libraries used are  \n",
    "   1-Matplotlib(Plots,graphs and figures)  \n",
    "   2- Seaborn(heat maps,time series and other plots)  \n",
    "   \n",
    " #Scienticic computing  \n",
    "   Libraries used are  \n",
    "   1-Pandas(Data structure & tool 2D dataframes)  \n",
    "   2-Numpy(Array & ametrics)  \n",
    "   3-Scipy(Optimization and solving differential equations) \n",
    "   \n",
    "  #ML Algorithmic development  \n",
    "   Libraries used are  \n",
    "   1-Scikit-learn(machine learning:regression,classification,clustering analysis and so on)  \n",
    "   2-Statsmodel(Explore data,estimation of statistical models,and perform statistical analysis)\n",
    "   \n",
    "   \n",
    "    \n",
    "    "
   ]
  },
  {
   "cell_type": "markdown",
   "metadata": {},
   "source": [
    "      #VARIABLES MATTERS\n",
    "    Type of visualization depends on the variable type\n",
    "    \n",
    "    ##Categorical Variable                                      Continous variable   \n",
    "    1-Count(plot type)                                           1-Scatter plot  \n",
    "      Male vs female                                             2-Statisrical proportios  \n",
    "      True vs false                                                (means and their comparsion)   \n",
    "      0 vs 1  \n",
    "      Yes vs No\n",
    "      \n",
    "      \n",
    "           #Andrew Abela chart suggestion\n",
    "        "
   ]
  },
  {
   "cell_type": "markdown",
   "metadata": {},
   "source": [
    "import seaborn as sns\n",
    "import  matplotlib.pyplot as plt\n",
    "sns.set(style=\"ticks\",color_codes=True)\n",
    "titanic = sns.load_dataset(\"titanic\")\n",
    "sns.catplot(x=\"sex\" , y=\"survived\", hue=\"class\",kind=\"bar\",data=titanic)\n",
    "plt.show()"
   ]
  },
  {
   "cell_type": "code",
   "execution_count": 47,
   "metadata": {},
   "outputs": [],
   "source": []
  },
  {
   "cell_type": "code",
   "execution_count": null,
   "metadata": {},
   "outputs": [],
   "source": []
  },
  {
   "cell_type": "markdown",
   "metadata": {},
   "source": [
    "import seaborn as sns\n",
    "import matplotlib.pyplot as plt\n",
    "sns.set(style=\"ticks\",color_codes=True)\n",
    "titanic = sns.load_dataset(\"titanic\")\n",
    "p1=sns.countplot(x=\"sex\", data=titanic, hue=\"class\")\n",
    "p1.set_title(\"Plot for counting\")\n",
    "plt.show()"
   ]
  },
  {
   "cell_type": "code",
   "execution_count": null,
   "metadata": {},
   "outputs": [],
   "source": []
  },
  {
   "cell_type": "markdown",
   "metadata": {},
   "source": [
    "#Scatterplot\n",
    "import seaborn as sns\n",
    "import matplotlib.pyplot as plt\n",
    "sns.set(style=\"ticks\",color_codes=True)\n",
    "\n",
    "titanic = sns.load_dataset(\"titanic\")\n",
    "g=sns.FacetGrid(titanic, row=\"sex\", hue=\"alone\")\n",
    "g=(g.map(plt.scatter,\"age\",\"fare\").add_legend())\n",
    "plt.show()\n"
   ]
  },
  {
   "cell_type": "markdown",
   "metadata": {},
   "source": [
    "import seaborn as sns\n",
    "import matplotlib.pyplot as plt\n",
    "sns.set(style=\"ticks\",color_codes=True)\n",
    "titanic = sns.load_dataset(\"titanic\")\n",
    "print(titanic)\n",
    "p1=sns.countplot(x=\"sex\", data=titanic, hue=\"class\")\n",
    "p1.set_title(\"Plot for counting\")\n",
    "plt.show()"
   ]
  },
  {
   "cell_type": "markdown",
   "metadata": {},
   "source": [
    "import seaborn as sns\n",
    "import matplotlib.pyplot as plt\n",
    "sns.set(style=\"ticks\",color_codes=True)\n",
    "titanic = sns.load_dataset(\"titanic\")\n",
    "p1=sns.countplot(x=\"who\", data=titanic, hue=\"embark_town\")\n",
    "p1.set_title(\"Plot for counting\")\n",
    "plt.show()"
   ]
  },
  {
   "cell_type": "markdown",
   "metadata": {},
   "source": [
    "import seaborn as sns\n",
    "import matplotlib.pyplot as plt\n",
    "sns.set(style=\"ticks\",color_codes=True)\n",
    "titanic = sns.load_dataset(\"titanic\")\n",
    "p1=sns.countplot(x=\"who\", data=titanic, hue=\"alone\")\n",
    "p1.set_title(\"Plot for counting\")\n",
    "plt.show()"
   ]
  },
  {
   "cell_type": "markdown",
   "metadata": {},
   "source": [
    "import seaborn as sns\n",
    "import matplotlib.pyplot as plt\n",
    "sns.set(style=\"ticks\",color_codes=True)\n",
    "titanic = sns.load_dataset(\"titanic\")\n",
    "p1=sns.countplot(x=\"adult_male\", data=titanic, hue=\"alive\")\n",
    "p1.set_title(\"Plot for counting\")\n",
    "plt.show()"
   ]
  },
  {
   "cell_type": "markdown",
   "metadata": {},
   "source": [
    "Relational plots\n",
    "relplot([x, y, hue, size, style, data, row, …])\tFigure-level interface for drawing relational plots onto a FacetGrid.  \n",
    "scatterplot([x, y, hue, style, size, data, …])\tDraw a scatter plot with possibility of several semantic groupings.  \n",
    "lineplot([x, y, hue, size, style, data, …])\tDraw a line plot with possibility of several semantic groupings.  \n",
    "\n",
    "\n",
    "Categorical plots\n",
    "catplot([x, y, hue, data, row, col, …])\tFigure-level interface for drawing categorical plots onto a FacetGrid.  \n",
    "stripplot([x, y, hue, data, order, …])\tDraw a scatterplot where one variable is categorical.  \n",
    "swarmplot([x, y, hue, data, order, …])\tDraw a categorical scatterplot with non-overlapping points.  \n",
    "boxplot([x, y, hue, data, order, hue_order, …])\tDraw a box plot to show distributions with respect to categories.  \n",
    "violinplot([x, y, hue, data, order, …])\tDraw a combination of boxplot and kernel density estimate.  \n",
    "boxenplot([x, y, hue, data, order, …])\tDraw an enhanced box plot for larger datasets.  \n",
    "pointplot([x, y, hue, data, order, …])\tShow point estimates and confidence intervals using scatter plot glyphs.  \n",
    "barplot([x, y, hue, data, order, hue_order, …])\tShow point estimates and confidence intervals as rectangular bars.  \n",
    "countplot([x, y, hue, data, order, …])\tShow the counts of observations in each categorical bin using bars.  \n",
    "\n",
    "\n",
    "Distribution plots  \n",
    "jointplot(x, y[, data, kind, stat_func, …])\tDraw a plot of two variables with bivariate and univariate graphs.  \n",
    "pairplot(data[, hue, hue_order, palette, …])\tPlot pairwise relationships in a dataset.  \n",
    "distplot(a[, bins, hist, kde, rug, fit, …])\tFlexibly plot a univariate distribution of observations.  \n",
    "kdeplot(data[, data2, shade, vertical, …])\tFit and plot a univariate or bivariate kernel density estimate.\n",
    "rugplot(a[, height, axis, ax])\tPlot datapoints in an array as sticks on an axis.  \n",
    "\n",
    "\n",
    "Regression plots  \n",
    "lmplot(x, y, data[, hue, col, row, palette, …])\tPlot data and regression model fits across a FacetGrid.  \n",
    "regplot(x, y[, data, x_estimator, x_bins, …])\tPlot data and a linear regression model fit.  \n",
    "residplot(x, y[, data, lowess, x_partial, …])\tPlot the residuals of a linear regression.  \n",
    "\n",
    "\n",
    "Matrix plots  \n",
    "heatmap(data[, vmin, vmax, cmap, center, …])\tPlot rectangular data as a color-encoded matrix.  \n",
    "clustermap(data[, pivot_kws, method, …])\tPlot a matrix dataset as a hierarchically-clustered heatmap.  \n",
    "\n",
    "\n",
    "Multi-plot grids  \n",
    "Facet grids  \n",
    "FacetGrid(data[, row, col, hue, col_wrap, …])\tMulti-plot grid for plotting conditional relationships.  \n",
    "FacetGrid.map(func, *args, **kwargs)\tApply a plotting function to each facet’s subset of the data.  \n",
    "FacetGrid.map_dataframe(func, *args, **kwargs)\tLike .map but passes args as strings and inserts data in kwargs.  \n",
    "\n",
    "\n",
    "Pair grids  \n",
    "PairGrid(data[, hue, hue_order, palette, …])\tSubplot grid for plotting pairwise relationships in a dataset.  \n",
    "PairGrid.map(func, **kwargs)\tPlot with the same function in every subplot.  \n",
    "PairGrid.map_diag(func, **kwargs)\tPlot with a univariate function on each diagonal subplot.  \n",
    "PairGrid.map_offdiag(func, **kwargs)\tPlot with a bivariate function on the off-diagonal subplots.  \n",
    "PairGrid.map_lower(func, **kwargs)\tPlot with a bivariate function on the lower diagonal subplots.  \n",
    "PairGrid.map_upper(func, **kwargs)\tPlot with a bivariate function on the upper diagonal subplots.  \n",
    "\n",
    "\n",
    "Joint grids    \n",
    "JointGrid(x, y[, data, height, ratio, …])\tGrid for drawing a bivariate plot with marginal univariate plots.  \n",
    "JointGrid.plot(joint_func, marginal_func[, …])\tShortcut to draw the full plot.  \n",
    "JointGrid.plot_joint(func, **kwargs)\tDraw a bivariate plot of x and y.  \n",
    "JointGrid.plot_marginals(func, **kwargs)\tDraw univariate plots for x and y separately.  \n",
    "\n",
    "\n",
    "Style control  \n",
    "set([context, style, palette, font, …])\tSet aesthetic parameters in one step.  \n",
    "axes_style([style, rc])\tReturn a parameter dict for the aesthetic style of the plots.  \n",
    "set_style([style, rc])\tSet the aesthetic style of the plots.  \n",
    "plotting_context([context, font_scale, rc])\tReturn a parameter dict to scale elements of the figure.  \n",
    "set_context([context, font_scale, rc])\tSet the plotting context parameters.  \n",
    "set_color_codes([palette])\tChange how matplotlib color shorthands are interpreted.  \n",
    "reset_defaults()\tRestore all RC params to default settings.   \n",
    "reset_orig()\tRestore all RC params to original settings (respects custom rc).  \n",
    "\n",
    "\n",
    "Color palettes  \n",
    "set_palette(palette[, n_colors, desat, …])\tSet the matplotlib color cycle using a seaborn palette.  \n",
    "color_palette([palette, n_colors, desat])\tReturn a list of colors defining a color palette.  \n",
    "husl_palette([n_colors, h, s, l])\tGet a set of evenly spaced colors in HUSL hue space.  \n",
    "hls_palette([n_colors, h, l, s])\tGet a set of evenly spaced colors in HLS hue space.  \n",
    "cubehelix_palette([n_colors, start, rot, …])\tMake a sequential palette from the cubehelix system.  \n",
    "dark_palette(color[, n_colors, reverse, …])\tMake a sequential palette that blends from dark to color.  \n",
    "light_palette(color[, n_colors, reverse, …])\tMake a sequential palette that blends from light to color.  \n",
    "diverging_palette(h_neg, h_pos[, s, l, sep, …])\tMake a diverging palette between two HUSL colors.  \n",
    "blend_palette(colors[, n_colors, as_cmap, input])\tMake a palette that blends between a list of colors.  \n",
    "xkcd_palette(colors)\tMake a palette with color names from the xkcd color survey.  \n",
    "crayon_palette(colors)\tMake a palette with color names from Crayola crayons.  \n",
    "mpl_palette(name[, n_colors])\tReturn discrete colors from a matplotlib palette.  \n",
    "\n",
    "\n",
    "Palette widgets    \n",
    "choose_colorbrewer_palette(data_type[, as_cmap])\tSelect a palette from the ColorBrewer set.  \n",
    "choose_cubehelix_palette([as_cmap])\tLaunch an interactive widget to create a sequential cubehelix palette.  \n",
    "choose_light_palette([input, as_cmap])\tLaunch an interactive widget to create a light sequential palette.  \n",
    "choose_dark_palette([input, as_cmap])\tLaunch an interactive widget to create a dark sequential palette.  \n",
    "choose_diverging_palette([as_cmap])\tLaunch an interactive widget to choose a diverging color palette.  \n",
    "\n",
    "\n",
    "Utility functions  \n",
    "load_dataset(name[, cache, data_home])\tLoad a dataset from the online repository (requires internet).  \n",
    "despine([fig, ax, top, right, left, bottom, …])\tRemove the top and right spines from plot(s).  \n",
    "desaturate(color, prop)\tDecrease the saturation channel of a color by some percent.  \n",
    "saturate(color)\tReturn a fully saturated color with the same hue.  \n",
    "set_hls_values(color[, h, l, s])\tIndependently manipulate the h, l, or s channels of a color.  "
   ]
  },
  {
   "cell_type": "code",
   "execution_count": null,
   "metadata": {},
   "outputs": [],
   "source": []
  },
  {
   "cell_type": "code",
   "execution_count": 1,
   "metadata": {},
   "outputs": [],
   "source": [
    "#01_line_plot  Line plot is always ploted between 2 numeric variable"
   ]
  },
  {
   "cell_type": "markdown",
   "metadata": {},
   "source": [
    "#import libraries  \n",
    "-seaborn automatically installs these libraries\n",
    "- *numpy*\n",
    "- *scipy*\n",
    "- *pandas*\n",
    "- *matplotlib*"
   ]
  },
  {
   "cell_type": "markdown",
   "metadata": {},
   "source": [
    "#import libraries\n",
    "# import seaborn as sns\n",
    "# import matplotlib.pyplot as plt\n",
    "\n",
    "\n",
    "#load datasheet\n",
    "phool=sns.load_dataset(\"iris\")\n",
    "phool\n",
    "#draw a line plot\n",
    "sns.lineplot(x=\"sepal_length\",y=\"sepal_width\",data=phool)\n",
    "plt.show()"
   ]
  },
  {
   "cell_type": "markdown",
   "metadata": {},
   "source": [
    "##adding title"
   ]
  },
  {
   "cell_type": "markdown",
   "metadata": {},
   "source": [
    "import seaborn as sns\n",
    "import matplotlib.pyplot as plt\n",
    "\n",
    "\n",
    "#load datasheet\n",
    "phool=sns.load_dataset(\"iris\")\n",
    "phool\n",
    "#draw a line plot\n",
    "sns.lineplot(x=\"sepal_length\",y=\"sepal_width\",data=phool)\n",
    "plt.title(\"phoolon ka plot\")\n",
    "plt.show()"
   ]
  },
  {
   "cell_type": "code",
   "execution_count": null,
   "metadata": {},
   "outputs": [],
   "source": []
  },
  {
   "cell_type": "markdown",
   "metadata": {},
   "source": [
    "Adding limit"
   ]
  },
  {
   "cell_type": "code",
   "execution_count": 12,
   "metadata": {},
   "outputs": [
    {
     "name": "stderr",
     "output_type": "stream",
     "text": [
      "C:\\Anaconda3\\lib\\site-packages\\scipy\\stats\\stats.py:1713: FutureWarning: Using a non-tuple sequence for multidimensional indexing is deprecated; use `arr[tuple(seq)]` instead of `arr[seq]`. In the future this will be interpreted as an array index, `arr[np.array(seq)]`, which will result either in an error or a different result.\n",
      "  return np.add.reduce(sorted[indexer] * weights, axis=axis) / sumval\n"
     ]
    },
    {
     "data": {
      "image/png": "[encoded data removed]",
      "text/plain": [
       "<Figure size 432x288 with 1 Axes>"
      ]
     },
     "metadata": {},
     "output_type": "display_data"
    }
   ],
   "source": [
    "import seaborn as sns\n",
    "import matplotlib.pyplot as plt\n",
    "\n",
    "\n",
    "#load datasheet\n",
    "phool=sns.load_dataset(\"iris\")\n",
    "phool\n",
    "#draw a line plot\n",
    "sns.lineplot(x=\"sepal_length\",y=\"sepal_width\",data=phool)\n",
    "plt.title(\"phoolon ka plot\")\n",
    "plt.xlim(2)\n",
    "plt.ylim(1)\n",
    "plt.show()"
   ]
  },
  {
   "cell_type": "code",
   "execution_count": null,
   "metadata": {},
   "outputs": [],
   "source": []
  },
  {
   "cell_type": "markdown",
   "metadata": {},
   "source": [
    "#Set style\n",
    "\n",
    "- darkgrid  \n",
    "- whitegrid  \n",
    "- dark  \n",
    "- white  \n",
    "- ticks  "
   ]
  },
  {
   "cell_type": "markdown",
   "metadata": {},
   "source": [
    "import seaborn as sns\n",
    "import matplotlib.pyplot as plt\n",
    "\n",
    "\n",
    "#load datasheet\n",
    "phool=sns.load_dataset(\"iris\")\n",
    "phool\n",
    "#draw a line plot\n",
    "sns.lineplot(x=\"sepal_length\",y=\"sepal_width\",data=phool)\n",
    "plt.title(\"phoolon ka plot\")\n",
    "sns.set_style(\"dark\")\n",
    "plt.show()"
   ]
  },
  {
   "cell_type": "code",
   "execution_count": null,
   "metadata": {},
   "outputs": [],
   "source": []
  },
  {
   "cell_type": "code",
   "execution_count": null,
   "metadata": {},
   "outputs": [],
   "source": []
  },
  {
   "cell_type": "code",
   "execution_count": null,
   "metadata": {},
   "outputs": [],
   "source": []
  }
 ],
 "metadata": {
  "kernelspec": {
   "display_name": "Python 3",
   "language": "python",
   "name": "python3"
  },
  "language_info": {
   "codemirror_mode": {
    "name": "ipython",
    "version": 3
   },
   "file_extension": ".py",
   "mimetype": "text/x-python",
   "name": "python",
   "nbconvert_exporter": "python",
   "pygments_lexer": "ipython3",
   "version": "3.7.1"
  }
 },
 "nbformat": 4,
 "nbformat_minor": 2
}
